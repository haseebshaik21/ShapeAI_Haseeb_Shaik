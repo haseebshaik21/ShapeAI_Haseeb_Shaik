{
  "nbformat": 4,
  "nbformat_minor": 0,
  "metadata": {
    "colab": {
      "name": "Haseed Shaik.ipynb",
      "provenance": []
    },
    "kernelspec": {
      "name": "python3",
      "display_name": "Python 3"
    },
    "language_info": {
      "name": "python"
    }
  },
  "cells": [
    {
      "cell_type": "code",
      "metadata": {
        "id": "i3RCEpUf31o9"
      },
      "source": [
        "from keras.datasets import mnist\n",
        "\n",
        "data= mnist.load_data()"
      ],
      "execution_count": 47,
      "outputs": []
    },
    {
      "cell_type": "code",
      "metadata": {
        "id": "xxZnYGWO5KMt"
      },
      "source": [
        "(X_train, y_train) , (X_test,y_test) = data"
      ],
      "execution_count": 36,
      "outputs": []
    },
    {
      "cell_type": "code",
      "metadata": {
        "colab": {
          "base_uri": "https://localhost:8080/"
        },
        "id": "YkIXXTS_DGw2",
        "outputId": "2206de7e-11b0-466d-ee4e-a50f4dfc73db"
      },
      "source": [
        "X_train[0].shape"
      ],
      "execution_count": 37,
      "outputs": [
        {
          "output_type": "execute_result",
          "data": {
            "text/plain": [
              "(28, 28)"
            ]
          },
          "metadata": {
            "tags": []
          },
          "execution_count": 37
        }
      ]
    },
    {
      "cell_type": "code",
      "metadata": {
        "colab": {
          "base_uri": "https://localhost:8080/"
        },
        "id": "Sw7rc2gJLNwV",
        "outputId": "b574b709-8885-4df8-f8c7-784e2aa9faca"
      },
      "source": [
        "X_train.shape"
      ],
      "execution_count": 38,
      "outputs": [
        {
          "output_type": "execute_result",
          "data": {
            "text/plain": [
              "(60000, 28, 28)"
            ]
          },
          "metadata": {
            "tags": []
          },
          "execution_count": 38
        }
      ]
    },
    {
      "cell_type": "code",
      "metadata": {
        "id": "u0UCRQ2dIAR9"
      },
      "source": [
        "X_train= X_train.reshape((X_train.shape[0], 28*28)).astype('float32')\n",
        "\n",
        "X_test= X_test.reshape((X_test.shape[0], 28*28)).astype('float32')"
      ],
      "execution_count": 39,
      "outputs": []
    },
    {
      "cell_type": "code",
      "metadata": {
        "id": "8OTa3oApNN9B"
      },
      "source": [
        "X_train= X_train/255\n",
        "\n",
        "X_test= X_test/255"
      ],
      "execution_count": 40,
      "outputs": []
    },
    {
      "cell_type": "code",
      "metadata": {
        "colab": {
          "base_uri": "https://localhost:8080/"
        },
        "id": "aGElyeIoOxcF",
        "outputId": "3caa4725-fe8a-47d5-91f8-7154713acdf9"
      },
      "source": [
        "from keras.utils import np_utils\n",
        "print(y_test.shape)\n",
        "\n",
        "y_train= np_utils.to_categorical(y_train)\n",
        "y_test= np_utils.to_categorical(y_test)\n",
        "\n",
        "num_classes= y_test.shape[1]\n",
        "print(y_test.shape)\n"
      ],
      "execution_count": 41,
      "outputs": [
        {
          "output_type": "stream",
          "text": [
            "(10000,)\n",
            "(10000, 10)\n"
          ],
          "name": "stdout"
        }
      ]
    },
    {
      "cell_type": "code",
      "metadata": {
        "id": "6vywHkHCSHeB"
      },
      "source": [
        "from keras.models import Sequential\n",
        "\n",
        "from keras.layers import Dense"
      ],
      "execution_count": 42,
      "outputs": []
    },
    {
      "cell_type": "code",
      "metadata": {
        "id": "ET6M3MB7SVeg"
      },
      "source": [
        "model= Sequential()\n",
        "\n",
        "model.add(Dense(32,input_dim= 28*28 , activation='relu'))\n",
        "model.add(Dense(64,activation='relu'))\n",
        "model.add(Dense(10,activation='softmax'))"
      ],
      "execution_count": 43,
      "outputs": []
    },
    {
      "cell_type": "code",
      "metadata": {
        "id": "KEF_XLpEU7br"
      },
      "source": [
        "model.compile(loss='categorical_crossentropy',optimizer='adam',metrics=['accuracy'])"
      ],
      "execution_count": 48,
      "outputs": []
    },
    {
      "cell_type": "code",
      "metadata": {
        "colab": {
          "base_uri": "https://localhost:8080/"
        },
        "id": "YT_MJwnrVdKJ",
        "outputId": "1b98fb29-8180-426a-9538-61de1fe84cad"
      },
      "source": [
        "model.summary()"
      ],
      "execution_count": 45,
      "outputs": [
        {
          "output_type": "stream",
          "text": [
            "Model: \"sequential_3\"\n",
            "_________________________________________________________________\n",
            "Layer (type)                 Output Shape              Param #   \n",
            "=================================================================\n",
            "dense_9 (Dense)              (None, 32)                25120     \n",
            "_________________________________________________________________\n",
            "dense_10 (Dense)             (None, 64)                2112      \n",
            "_________________________________________________________________\n",
            "dense_11 (Dense)             (None, 10)                650       \n",
            "=================================================================\n",
            "Total params: 27,882\n",
            "Trainable params: 27,882\n",
            "Non-trainable params: 0\n",
            "_________________________________________________________________\n"
          ],
          "name": "stdout"
        }
      ]
    },
    {
      "cell_type": "code",
      "metadata": {
        "colab": {
          "base_uri": "https://localhost:8080/"
        },
        "id": "2hEdbCGNb0B8",
        "outputId": "5dcd3fa1-b272-443f-c8e7-fa8b700e4a29"
      },
      "source": [
        "model.fit(X_train, y_train,epochs=10 ,batch_size=100)"
      ],
      "execution_count": 46,
      "outputs": [
        {
          "output_type": "stream",
          "text": [
            "Epoch 1/10\n",
            "600/600 [==============================] - 2s 2ms/step - loss: 0.7677 - accuracy: 0.7760\n",
            "Epoch 2/10\n",
            "600/600 [==============================] - 1s 2ms/step - loss: 0.2129 - accuracy: 0.9390\n",
            "Epoch 3/10\n",
            "600/600 [==============================] - 1s 2ms/step - loss: 0.1627 - accuracy: 0.9518\n",
            "Epoch 4/10\n",
            "600/600 [==============================] - 1s 2ms/step - loss: 0.1322 - accuracy: 0.9610\n",
            "Epoch 5/10\n",
            "600/600 [==============================] - 1s 2ms/step - loss: 0.1156 - accuracy: 0.9649\n",
            "Epoch 6/10\n",
            "600/600 [==============================] - 1s 2ms/step - loss: 0.0970 - accuracy: 0.9707\n",
            "Epoch 7/10\n",
            "600/600 [==============================] - 1s 2ms/step - loss: 0.0878 - accuracy: 0.9739\n",
            "Epoch 8/10\n",
            "600/600 [==============================] - 1s 2ms/step - loss: 0.0805 - accuracy: 0.9759\n",
            "Epoch 9/10\n",
            "600/600 [==============================] - 1s 2ms/step - loss: 0.0714 - accuracy: 0.9786\n",
            "Epoch 10/10\n",
            "600/600 [==============================] - 1s 2ms/step - loss: 0.0631 - accuracy: 0.9813\n"
          ],
          "name": "stdout"
        },
        {
          "output_type": "execute_result",
          "data": {
            "text/plain": [
              "<tensorflow.python.keras.callbacks.History at 0x7f3954f808d0>"
            ]
          },
          "metadata": {
            "tags": []
          },
          "execution_count": 46
        }
      ]
    },
    {
      "cell_type": "code",
      "metadata": {
        "colab": {
          "base_uri": "https://localhost:8080/"
        },
        "id": "qL5zm853eWTG",
        "outputId": "4f0d29a4-4527-483b-a881-98d0f3ea79bc"
      },
      "source": [
        "scores= model.evaluate(X_test,y_test)\n",
        "\n",
        "print(scores)"
      ],
      "execution_count": 49,
      "outputs": [
        {
          "output_type": "stream",
          "text": [
            "313/313 [==============================] - 1s 1ms/step - loss: 0.1211 - accuracy: 0.9618\n",
            "[0.10895036906003952, 0.96670001745224]\n"
          ],
          "name": "stdout"
        }
      ]
    }
  ]
}